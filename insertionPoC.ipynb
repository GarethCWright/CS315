{
  "nbformat": 4,
  "nbformat_minor": 0,
  "metadata": {
    "colab": {
      "provenance": [],
      "include_colab_link": true
    },
    "kernelspec": {
      "name": "python3",
      "display_name": "Python 3"
    },
    "language_info": {
      "name": "python"
    }
  },
  "cells": [
    {
      "cell_type": "markdown",
      "metadata": {
        "id": "view-in-github",
        "colab_type": "text"
      },
      "source": [
        "<a href=\"https://colab.research.google.com/github/GarethCWright/CS315/blob/main/insertionPoC.ipynb\" target=\"_parent\"><img src=\"https://colab.research.google.com/assets/colab-badge.svg\" alt=\"Open In Colab\"/></a>"
      ]
    },
    {
      "cell_type": "code",
      "execution_count": null,
      "metadata": {
        "id": "tZGwopH4Y7oL"
      },
      "outputs": [],
      "source": [
        "# Template for testing Insertion-Sort on small lists, outputing each intermediate step\n",
        "\n",
        "# Gareth Wright\n",
        "# 9/15/2025"
      ]
    },
    {
      "cell_type": "code",
      "source": [
        "import random"
      ],
      "metadata": {
        "id": "fSME9MywceAq"
      },
      "execution_count": null,
      "outputs": []
    },
    {
      "cell_type": "code",
      "source": [
        "def insertion(A,print_flag):\n",
        "\n",
        "# For your convenience, here is the psuedocode from the textbook for Insertion-Sort\n",
        "# You can adapt it for this problem, there aren't many changes required\n",
        "# Note that N is defined in a different execution group and doesn't need to be a parameter\n",
        "# Also, it is nice to have a boolean flag controlling whether the intermediate result is printed\n",
        "# The psuedocode is written to be \"in-place,\" so the input list changes\n",
        "\n",
        "# Insertion-Sort(A,n)\n",
        "# for i=2 to n:\n",
        "#    key = A[i]\n",
        "# insert A[i] into sorted seq A[1]..A[i-1]\n",
        "#    j = i-1\n",
        "#    while j>0 and A[j]>key:\n",
        "#       A[j+1] = A[j]\n",
        "#       j = j-1\n",
        "#    A[j+1] = key"
      ],
      "metadata": {
        "id": "TJZL4jFQZhAp"
      },
      "execution_count": null,
      "outputs": []
    },
    {
      "cell_type": "code",
      "source": [
        "N=8\n",
        "A = list(range(N))\n",
        "\n",
        "random.shuffle(A)\n",
        "\n",
        "def insertion_sort(A):\n",
        "for i=2 to A.len():\n",
        "   key = A[i]\n",
        "#insert A[i] into sorted seq A[1]..A[i-1]\n",
        "   j = i-1\n",
        "   while j>0 and A[j]>key:\n",
        "      A[j+1] = A[j]\n",
        "      j = j-1\n",
        "   A[j+1] = key\n",
        "\n",
        "print(A)\n",
        "insertion(A,True)\n",
        "print(A)"
      ],
      "metadata": {
        "colab": {
          "base_uri": "https://localhost:8080/",
          "height": 106
        },
        "id": "f1GS3NjwZqmS",
        "outputId": "87fbc83c-41fa-4e82-9701-539ab05c6acd"
      },
      "execution_count": 1,
      "outputs": [
        {
          "output_type": "error",
          "ename": "IndentationError",
          "evalue": "expected an indented block after function definition on line 6 (ipython-input-3378319013.py, line 7)",
          "traceback": [
            "\u001b[0;36m  File \u001b[0;32m\"/tmp/ipython-input-3378319013.py\"\u001b[0;36m, line \u001b[0;32m7\u001b[0m\n\u001b[0;31m    for i=2 to A.len():\u001b[0m\n\u001b[0m    ^\u001b[0m\n\u001b[0;31mIndentationError\u001b[0m\u001b[0;31m:\u001b[0m expected an indented block after function definition on line 6\n"
          ]
        }
      ]
    }
  ]
}