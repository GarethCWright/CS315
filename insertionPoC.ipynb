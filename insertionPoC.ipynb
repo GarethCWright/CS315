{
  "nbformat": 4,
  "nbformat_minor": 0,
  "metadata": {
    "colab": {
      "provenance": [],
      "include_colab_link": true
    },
    "kernelspec": {
      "name": "python3",
      "display_name": "Python 3"
    },
    "language_info": {
      "name": "python"
    }
  },
  "cells": [
    {
      "cell_type": "markdown",
      "metadata": {
        "id": "view-in-github",
        "colab_type": "text"
      },
      "source": [
        "<a href=\"https://colab.research.google.com/github/GarethCWright/CS315/blob/main/insertionPoC.ipynb\" target=\"_parent\"><img src=\"https://colab.research.google.com/assets/colab-badge.svg\" alt=\"Open In Colab\"/></a>"
      ]
    },
    {
      "cell_type": "code",
      "execution_count": null,
      "metadata": {
        "id": "tZGwopH4Y7oL"
      },
      "outputs": [],
      "source": [
        "#Timing insertion sort for sorted and unsorted arrays by Gareth Wright"
      ]
    },
    {
      "cell_type": "code",
      "source": [
        "import random\n",
        "import time"
      ],
      "metadata": {
        "id": "fSME9MywceAq"
      },
      "execution_count": 1,
      "outputs": []
    },
    {
      "cell_type": "code",
      "source": [
        "def insertion_sort(A, print_flag=False):\n",
        "    n = len(A)\n",
        "    for i in range(1, n):  #starts at 1 (A[0] is sorted)\n",
        "        key = A[i]\n",
        "        j = i - 1\n",
        "\n",
        "        #move elems greater than key ahead one\n",
        "        while j >= 0 and A[j] > key:\n",
        "            A[j + 1] = A[j]\n",
        "            j -= 1\n",
        "\n",
        "        A[j + 1] = key\n",
        "\n",
        "        if print_flag:\n",
        "            print(A)\n",
        "    return A\n"
      ],
      "metadata": {
        "id": "aDlcUEYaM_Dr"
      },
      "execution_count": 3,
      "outputs": []
    },
    {
      "cell_type": "code",
      "source": [
        "\n",
        "\"\"\"\n",
        "Output: the time time taken for the function to run\n",
        "\n",
        "learned about passing functions as arguments to another function: https://stackoverflow.com/questions/1349332/python-passing-a-function-into-another-function\n",
        "\"\"\"\n",
        "def function_timer(func, *args, **kwargs):\n",
        "      start = time.time() #referenced https://www.w3schools.com/python/ref_module_time.asp\n",
        "      func(*args, **kwargs)\n",
        "      end = time.time()\n",
        "      return float(end)-float(start)"
      ],
      "metadata": {
        "id": "BZrchYN9Nzl0"
      },
      "execution_count": 5,
      "outputs": []
    },
    {
      "cell_type": "code",
      "source": [
        "#Insertion sort on random arrays\n",
        "\n",
        "#initialize variables\n",
        "times = []\n",
        "curr_total_time = 0\n",
        "N = 10\n",
        "N_LIMIT = 15_000\n",
        "trial = 0\n",
        "MAX_TRIALS = 10 #must be 1 or greater\n",
        "A = []\n",
        "\n",
        "#this tests the times on arrays that are 4x the size of the previous, averaging the times for 10 runs for each size of array\n",
        "while (N <= N_LIMIT): #loop runs  log4(N_LIMIT)*MAX_TRIALS  times\n",
        "    A = list(range(N))\n",
        "    random.shuffle(A)\n",
        "    curr_total_time += function_timer(insertion_sort, A, False)\n",
        "\n",
        "    trial+=1\n",
        "    if trial == MAX_TRIALS: #this keeps the loop going on current iteration until it's been run 10x on the current size of array\n",
        "        N *= 4\n",
        "        trial = 1\n",
        "        times.append( float(curr_total_time)/10 )\n",
        "\n",
        "#this part prints out the times and compares them to the expected times\n",
        "n_copy = -1\n",
        "for i in range(len(times)):\n",
        "    n_copy = 4**(i+1)\n",
        "    print(f\"Quicksort with {n_copy} random elements took: {times[i]} seconds\")\n",
        "    if i >= 1:\n",
        "        print(f\"Ratio Test:\\n Actual: { (times[i] / times[i-1]) } vs Expected: {(i+1)**2 / ((i+1)/4)**2 }\")\n",
        "#256+ elements seem to be in line with the ratio test"
      ],
      "metadata": {
        "colab": {
          "base_uri": "https://localhost:8080/"
        },
        "id": "f1GS3NjwZqmS",
        "outputId": "05050a2b-1fce-4ba5-d3fa-044522a2bc13"
      },
      "execution_count": 6,
      "outputs": [
        {
          "output_type": "stream",
          "name": "stdout",
          "text": [
            "Quicksort with 4 random elements took: 3.6001205444335937e-06 seconds\n",
            "Quicksort with 16 random elements took: 3.814697265625e-05 seconds\n",
            "Ratio Test:\n",
            " Actual: 10.596026490066226 vs Expected: 16.0\n",
            "Quicksort with 64 random elements took: 0.0005054473876953125 seconds\n",
            "Ratio Test:\n",
            " Actual: 13.25 vs Expected: 16.0\n",
            "Quicksort with 256 random elements took: 0.009187531471252442 seconds\n",
            "Ratio Test:\n",
            " Actual: 18.177028301886793 vs Expected: 16.0\n",
            "Quicksort with 1024 random elements took: 0.173004412651062 seconds\n",
            "Ratio Test:\n",
            " Actual: 18.830347759067656 vs Expected: 16.0\n",
            "Quicksort with 4096 random elements took: 3.0379993200302122 seconds\n",
            "Ratio Test:\n",
            " Actual: 17.56024180815346 vs Expected: 16.0\n"
          ]
        }
      ]
    },
    {
      "cell_type": "code",
      "source": [
        "#Insertion sort on sorted arrays\n",
        "\n",
        "#initialize variables\n",
        "times = []\n",
        "curr_total_time = 0\n",
        "N = 10\n",
        "N_LIMIT = 15_000\n",
        "trial = 0\n",
        "MAX_TRIALS = 10 #must be 1 or greater\n",
        "A = []\n",
        "\n",
        "#this tests the times on arrays that are 4x the size of the previous, averaging the times for 10 runs for each size of array\n",
        "while (N <= N_LIMIT): #loop runs  log4(N_LIMIT)*MAX_TRIALS  times\n",
        "    A = list(range(N))\n",
        "    curr_total_time += function_timer(insertion_sort, A, False)\n",
        "\n",
        "    trial+=1\n",
        "    if trial == MAX_TRIALS: #this keeps the loop going on current iteration until it's been run 10x on the current size of array\n",
        "        N *= 4\n",
        "        trial = 1\n",
        "        times.append( float(curr_total_time)/10 )\n",
        "\n",
        "#this part prints out the times and compares them to the expected times\n",
        "n_copy = -1\n",
        "for i in range(len(times)):\n",
        "    n_copy = 4**(i+1)\n",
        "    print(f\"Quicksort with {n_copy} random elements took: {times[i]} seconds\")\n",
        "    if i >= 1:\n",
        "        print(f\"Ratio Test:\\n Actual: { (times[i] / times[i-1]) } vs Expected: {(i+1) / ((i+1)/4) }\")\n",
        "#all of them seem to be pretty close to ratio test!"
      ],
      "metadata": {
        "id": "0_POqNvgNLWw",
        "outputId": "4c6e0082-7c0d-4536-f339-aefd4b5bf97d",
        "colab": {
          "base_uri": "https://localhost:8080/"
        }
      },
      "execution_count": 8,
      "outputs": [
        {
          "output_type": "stream",
          "name": "stdout",
          "text": [
            "Quicksort with 4 random elements took: 1.430511474609375e-06 seconds\n",
            "Quicksort with 16 random elements took: 4.458427429199219e-06 seconds\n",
            "Ratio Test:\n",
            " Actual: 3.1166666666666667 vs Expected: 4.0\n",
            "Quicksort with 64 random elements took: 1.5664100646972657e-05 seconds\n",
            "Ratio Test:\n",
            " Actual: 3.5133689839572195 vs Expected: 4.0\n",
            "Quicksort with 256 random elements took: 8.130073547363281e-05 seconds\n",
            "Ratio Test:\n",
            " Actual: 5.190258751902587 vs Expected: 4.0\n",
            "Quicksort with 1024 random elements took: 0.0003876209259033203 seconds\n",
            "Ratio Test:\n",
            " Actual: 4.767741935483871 vs Expected: 4.0\n",
            "Quicksort with 4096 random elements took: 0.0015908241271972655 seconds\n",
            "Ratio Test:\n",
            " Actual: 4.104071841554926 vs Expected: 4.0\n"
          ]
        }
      ]
    }
  ]
}