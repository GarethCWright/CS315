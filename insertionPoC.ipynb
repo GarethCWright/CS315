{
  "nbformat": 4,
  "nbformat_minor": 0,
  "metadata": {
    "colab": {
      "provenance": [],
      "include_colab_link": true
    },
    "kernelspec": {
      "name": "python3",
      "display_name": "Python 3"
    },
    "language_info": {
      "name": "python"
    }
  },
  "cells": [
    {
      "cell_type": "markdown",
      "metadata": {
        "id": "view-in-github",
        "colab_type": "text"
      },
      "source": [
        "<a href=\"https://colab.research.google.com/github/GarethCWright/CS315/blob/main/insertionPoC.ipynb\" target=\"_parent\"><img src=\"https://colab.research.google.com/assets/colab-badge.svg\" alt=\"Open In Colab\"/></a>"
      ]
    },
    {
      "cell_type": "code",
      "execution_count": 1,
      "metadata": {
        "id": "tZGwopH4Y7oL"
      },
      "outputs": [],
      "source": [
        "#Timing insertion sort for sorted and unsorted arrays by Gareth Wright"
      ]
    },
    {
      "cell_type": "code",
      "source": [
        "import random\n",
        "import time"
      ],
      "metadata": {
        "id": "fSME9MywceAq"
      },
      "execution_count": 2,
      "outputs": []
    },
    {
      "cell_type": "code",
      "source": [
        "def insertion_sort(A, print_flag=False):\n",
        "    n = len(A)\n",
        "    for i in range(1, n):  #starts at 1 (A[0] is sorted)\n",
        "        key = A[i]\n",
        "        j = i - 1\n",
        "\n",
        "        #move elems greater than key ahead one\n",
        "        while j >= 0 and A[j] > key:\n",
        "            A[j + 1] = A[j]\n",
        "            j -= 1\n",
        "\n",
        "        A[j + 1] = key\n",
        "\n",
        "        if print_flag:\n",
        "            print(A)\n",
        "    return A\n"
      ],
      "metadata": {
        "id": "aDlcUEYaM_Dr"
      },
      "execution_count": 3,
      "outputs": []
    },
    {
      "cell_type": "code",
      "source": [
        "\n",
        "\"\"\"\n",
        "Output: the time time taken for the function to run\n",
        "\n",
        "learned about passing functions as arguments to another function: https://stackoverflow.com/questions/1349332/python-passing-a-function-into-another-function\n",
        "\"\"\"\n",
        "def function_timer(func, *args, **kwargs):\n",
        "      start = time.time() #referenced https://www.w3schools.com/python/ref_module_time.asp\n",
        "      func(*args, **kwargs)\n",
        "      end = time.time()\n",
        "      return float(end)-float(start)"
      ],
      "metadata": {
        "id": "BZrchYN9Nzl0"
      },
      "execution_count": 4,
      "outputs": []
    },
    {
      "cell_type": "code",
      "source": [
        "#Insertion sort on random arrays\n",
        "\n",
        "#initialize variables\n",
        "times = []\n",
        "curr_total_time = 0\n",
        "N = 10\n",
        "N_LIMIT = 15_000\n",
        "trial = 0\n",
        "MAX_TRIALS = 10 #must be 1 or greater\n",
        "A = []\n",
        "\n",
        "#this tests the times on arrays that are 4x the size of the previous, averaging the times for 10 runs for each size of array\n",
        "while (N <= N_LIMIT): #loop runs  log4(N_LIMIT)*MAX_TRIALS  times\n",
        "    A = list(range(N))\n",
        "    random.shuffle(A)\n",
        "    curr_total_time += function_timer(insertion_sort, A, False)\n",
        "\n",
        "    trial+=1\n",
        "    if trial == MAX_TRIALS: #this keeps the loop going on current iteration until it's been run 10x on the current size of array\n",
        "        N *= 4\n",
        "        trial = 1\n",
        "        times.append( float(curr_total_time)/10 )\n",
        "\n",
        "#this part prints out the times and compares them to the expected times\n",
        "n_copy = -1\n",
        "for i in range(len(times)):\n",
        "    n_copy = 4**(i+1)\n",
        "    print(f\"Insertionsort with {n_copy} random elements took: {times[i]} seconds\")\n",
        "    if i >= 1:\n",
        "        print(f\"Ratio Test:\\n Actual: { (times[i] / times[i-1]) } vs Expected: {(i+1)**2 / ((i+1)/4)**2 }\")\n",
        "#On the first and third runs of this, I got good results, got wildly bad results on the 2nd run though (many of them double or half of the expected)\n",
        "#3rd run: 64+ elements seems to be right where they should be"
      ],
      "metadata": {
        "colab": {
          "base_uri": "https://localhost:8080/"
        },
        "id": "f1GS3NjwZqmS",
        "outputId": "e6358e1d-960c-4ed6-e3b8-235e46ed5421"
      },
      "execution_count": 7,
      "outputs": [
        {
          "output_type": "stream",
          "name": "stdout",
          "text": [
            "Insertionsort with 4 random elements took: 3.4570693969726562e-06 seconds\n",
            "Insertionsort with 16 random elements took: 3.0159950256347656e-05 seconds\n",
            "Ratio Test:\n",
            " Actual: 8.724137931034482 vs Expected: 16.0\n",
            "Insertionsort with 64 random elements took: 0.0005621910095214844 seconds\n",
            "Ratio Test:\n",
            " Actual: 18.640316205533598 vs Expected: 16.0\n",
            "Insertionsort with 256 random elements took: 0.00844888687133789 seconds\n",
            "Ratio Test:\n",
            " Actual: 15.028498727735368 vs Expected: 16.0\n",
            "Insertionsort with 1024 random elements took: 0.14938483238220215 seconds\n",
            "Ratio Test:\n",
            " Actual: 17.681007528811534 vs Expected: 16.0\n",
            "Insertionsort with 4096 random elements took: 2.9390689611434935 seconds\n",
            "Ratio Test:\n",
            " Actual: 19.67448042933746 vs Expected: 16.0\n"
          ]
        }
      ]
    },
    {
      "cell_type": "code",
      "source": [
        "#Insertion sort on sorted arrays\n",
        "\n",
        "#initialize variables\n",
        "times = []\n",
        "curr_total_time = 0\n",
        "N = 10\n",
        "N_LIMIT = 15_000\n",
        "trial = 0\n",
        "MAX_TRIALS = 10 #must be 1 or greater\n",
        "A = []\n",
        "\n",
        "#this tests the times on arrays that are 4x the size of the previous, averaging the times for 10 runs for each size of array\n",
        "while (N <= N_LIMIT): #loop runs  log4(N_LIMIT)*MAX_TRIALS  times\n",
        "    A = list(range(N))\n",
        "    curr_total_time += function_timer(insertion_sort, A, False)\n",
        "\n",
        "    trial+=1\n",
        "    if trial == MAX_TRIALS: #this keeps the loop going on current iteration until it's been run 10x on the current size of array\n",
        "        N *= 4\n",
        "        trial = 1\n",
        "        times.append( float(curr_total_time)/10 )\n",
        "\n",
        "#this part prints out the times and compares them to the expected times\n",
        "n_copy = -1\n",
        "for i in range(len(times)):\n",
        "    n_copy = 4**(i+1)\n",
        "    print(f\"Insertionsort with {n_copy} random elements took: {times[i]} seconds\")\n",
        "    if i >= 1:\n",
        "        print(f\"Ratio Test:\\n Actual: { (times[i] / times[i-1]) } vs Expected: {(i+1) / ((i+1)/4) }\")\n",
        "#With the outlier of 256 elements, all of these ratio tests seem to be relatively close to the expected values"
      ],
      "metadata": {
        "id": "0_POqNvgNLWw",
        "outputId": "93ce82c5-9760-451a-ada7-d9e41484438c",
        "colab": {
          "base_uri": "https://localhost:8080/"
        }
      },
      "execution_count": 6,
      "outputs": [
        {
          "output_type": "stream",
          "name": "stdout",
          "text": [
            "Insertionsort with 4 random elements took: 2.5033950805664062e-06 seconds\n",
            "Insertionsort with 16 random elements took: 7.462501525878906e-06 seconds\n",
            "Ratio Test:\n",
            " Actual: 2.980952380952381 vs Expected: 4.0\n",
            "Insertionsort with 64 random elements took: 2.753734588623047e-05 seconds\n",
            "Ratio Test:\n",
            " Actual: 3.6900958466453675 vs Expected: 4.0\n",
            "Insertionsort with 256 random elements took: 0.00020139217376708985 seconds\n",
            "Ratio Test:\n",
            " Actual: 7.313419913419914 vs Expected: 4.0\n",
            "Insertionsort with 1024 random elements took: 0.000817561149597168 seconds\n",
            "Ratio Test:\n",
            " Actual: 4.059547768438499 vs Expected: 4.0\n",
            "Insertionsort with 4096 random elements took: 0.003000640869140625 seconds\n",
            "Ratio Test:\n",
            " Actual: 3.670234172231781 vs Expected: 4.0\n"
          ]
        }
      ]
    }
  ]
}