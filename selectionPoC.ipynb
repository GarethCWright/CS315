{
  "nbformat": 4,
  "nbformat_minor": 0,
  "metadata": {
    "colab": {
      "provenance": [],
      "include_colab_link": true
    },
    "kernelspec": {
      "name": "python3",
      "display_name": "Python 3"
    },
    "language_info": {
      "name": "python"
    }
  },
  "cells": [
    {
      "cell_type": "markdown",
      "metadata": {
        "id": "view-in-github",
        "colab_type": "text"
      },
      "source": [
        "<a href=\"https://colab.research.google.com/github/GarethCWright/CS315/blob/main/selectionPoC.ipynb\" target=\"_parent\"><img src=\"https://colab.research.google.com/assets/colab-badge.svg\" alt=\"Open In Colab\"/></a>"
      ]
    },
    {
      "cell_type": "code",
      "execution_count": 8,
      "metadata": {
        "id": "tZGwopH4Y7oL"
      },
      "outputs": [],
      "source": [
        "#Timing selection sort for sorted and unsorted arrays by Gareth Wright"
      ]
    },
    {
      "cell_type": "code",
      "source": [
        "import random\n",
        "import time"
      ],
      "metadata": {
        "id": "fSME9MywceAq"
      },
      "execution_count": 9,
      "outputs": []
    },
    {
      "cell_type": "code",
      "source": [
        "\n",
        "\"\"\"\n",
        "Output: the time time taken for the function to run\n",
        "\n",
        "learned about passing functions as arguments to another function: https://stackoverflow.com/questions/1349332/python-passing-a-function-into-another-function\n",
        "\"\"\"\n",
        "def function_timer(func, *args, **kwargs):\n",
        "      start = time.time() #referenced https://www.w3schools.com/python/ref_module_time.asp\n",
        "      func(*args, **kwargs)\n",
        "      end = time.time()\n",
        "      return float(end)-float(start)"
      ],
      "metadata": {
        "id": "nLqZ0gERHfx6"
      },
      "execution_count": 10,
      "outputs": []
    },
    {
      "cell_type": "code",
      "source": [
        "def selection_sort(A, print_flag=False):\n",
        "    n = len(A)\n",
        "    for i in range(n - 1):\n",
        "        smallest = i\n",
        "        for j in range(i + 1, n):\n",
        "            if A[smallest] > A[j]:\n",
        "                smallest = j\n",
        "\n",
        "        #swap the values\n",
        "        A[i], A[smallest] = A[smallest], A[i]\n",
        "\n",
        "        if print_flag:\n",
        "            print(f\"{i + 1}: {A}\")\n",
        "    return A"
      ],
      "metadata": {
        "id": "TJZL4jFQZhAp"
      },
      "execution_count": 11,
      "outputs": []
    },
    {
      "cell_type": "code",
      "source": [
        "#Selection sort on random arrays\n",
        "\n",
        "#initialize variables\n",
        "times = []\n",
        "curr_total_time = 0\n",
        "N = 10\n",
        "N_LIMIT = 15_000\n",
        "trial = 0\n",
        "MAX_TRIALS = 10 #must be 1 or greater\n",
        "A = []\n",
        "\n",
        "#this tests the times on arrays that are 4x the size of the previous, averaging the times for 10 runs for each size of array\n",
        "while (N <= N_LIMIT): #loop runs  log4(N_LIMIT)*MAX_TRIALS  times\n",
        "    A = list(range(N))\n",
        "    random.shuffle(A)\n",
        "    curr_total_time += function_timer(selection_sort, A, False)\n",
        "\n",
        "    trial+=1\n",
        "    if trial == MAX_TRIALS: #this keeps the loop going on current iteration until it's been run 10x on the current size of array\n",
        "        N *= 4\n",
        "        trial = 1\n",
        "        times.append( float(curr_total_time)/10 )\n",
        "\n",
        "#this part prints out the times and compares them to the expected times\n",
        "n_copy = -1\n",
        "for i in range(len(times)):\n",
        "    n_copy = 4**(i+1)\n",
        "    print(f\"Quicksort with {n_copy} random elements took: {times[i]} seconds\")\n",
        "    if i >= 1:\n",
        "        print(f\"Ratio Test:\\n Actual: { (times[i] / times[i-1]) } vs Expected: {(i+1)**2 / ((i+1)/4)**2 }\")\n",
        "#both 1024 and 4096 are in line with expected, the others are most likely too small of sets"
      ],
      "metadata": {
        "id": "f1GS3NjwZqmS",
        "outputId": "92335999-048c-432f-df39-8a5660d6f5b9",
        "colab": {
          "base_uri": "https://localhost:8080/"
        }
      },
      "execution_count": 19,
      "outputs": [
        {
          "output_type": "stream",
          "name": "stdout",
          "text": [
            "Quicksort with 4 random elements took: 4.1961669921875e-06 seconds\n",
            "Quicksort with 16 random elements took: 3.602504730224609e-05 seconds\n",
            "Ratio Test:\n",
            " Actual: 8.585227272727272 vs Expected: 16.0\n",
            "Quicksort with 64 random elements took: 0.000490570068359375 seconds\n",
            "Ratio Test:\n",
            " Actual: 13.617471872931834 vs Expected: 16.0\n",
            "Quicksort with 256 random elements took: 0.010050773620605469 seconds\n",
            "Ratio Test:\n",
            " Actual: 20.487947122861588 vs Expected: 16.0\n",
            "Quicksort with 1024 random elements took: 0.15854063034057617 seconds\n",
            "Ratio Test:\n",
            " Actual: 15.773972862700445 vs Expected: 16.0\n",
            "Quicksort with 4096 random elements took: 2.7537341594696043 seconds\n",
            "Ratio Test:\n",
            " Actual: 17.369264607779385 vs Expected: 16.0\n"
          ]
        }
      ]
    },
    {
      "cell_type": "code",
      "source": [
        "#Selection sort on sorted arrays\n",
        "\n",
        "#initialize variables\n",
        "times = []\n",
        "curr_total_time = 0\n",
        "N = 10\n",
        "N_LIMIT = 15_000\n",
        "trial = 0\n",
        "MAX_TRIALS = 10 #must be 1 or greater\n",
        "A = []\n",
        "\n",
        "#this tests the times on arrays that are 4x the size of the previous, averaging the times for 10 runs for each size of array\n",
        "while (N <= N_LIMIT): #loop runs  log4(N_LIMIT)*MAX_TRIALS  times\n",
        "    A = list(range(N))\n",
        "    curr_total_time += function_timer(selection_sort, A, False)\n",
        "\n",
        "    trial+=1\n",
        "    if trial == MAX_TRIALS: #this keeps the loop going on current iteration until it's been run 10x on the current size of array\n",
        "        N *= 4\n",
        "        trial = 1\n",
        "        times.append( float(curr_total_time)/10 )\n",
        "\n",
        "#this part prints out the times and compares them to the expected times\n",
        "n_copy = -1\n",
        "for i in range(len(times)):\n",
        "    n_copy = 4**(i+1)\n",
        "    print(f\"Quicksort with {n_copy} random elements took: {times[i]} seconds\")\n",
        "    if i >= 1:\n",
        "        print(f\"Ratio Test:\\n Actual: { (times[i] / times[i-1]) } vs Expected: {(i+1)**2 / ((i+1)/4)**2 }\")\n",
        "#this time; 64 elements and up are all roughly in line with expected"
      ],
      "metadata": {
        "id": "xE-ah-7ELArx",
        "outputId": "ad0fa2dd-0126-4a22-90e9-f28d963143ce",
        "colab": {
          "base_uri": "https://localhost:8080/"
        }
      },
      "execution_count": 20,
      "outputs": [
        {
          "output_type": "stream",
          "name": "stdout",
          "text": [
            "Quicksort with 4 random elements took: 3.719329833984375e-06 seconds\n",
            "Quicksort with 16 random elements took: 3.1828880310058594e-05 seconds\n",
            "Ratio Test:\n",
            " Actual: 8.557692307692308 vs Expected: 16.0\n",
            "Quicksort with 64 random elements took: 0.000592041015625 seconds\n",
            "Ratio Test:\n",
            " Actual: 18.60074906367041 vs Expected: 16.0\n",
            "Quicksort with 256 random elements took: 0.009216046333312989 seconds\n",
            "Ratio Test:\n",
            " Actual: 15.566567332474229 vs Expected: 16.0\n",
            "Quicksort with 1024 random elements took: 0.1546499490737915 seconds\n",
            "Ratio Test:\n",
            " Actual: 16.78050906870798 vs Expected: 16.0\n",
            "Quicksort with 4096 random elements took: 2.716108703613281 seconds\n",
            "Ratio Test:\n",
            " Actual: 17.562945994358426 vs Expected: 16.0\n"
          ]
        }
      ]
    }
  ]
}