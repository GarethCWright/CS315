{
  "nbformat": 4,
  "nbformat_minor": 0,
  "metadata": {
    "colab": {
      "provenance": [],
      "include_colab_link": true
    },
    "kernelspec": {
      "name": "python3",
      "display_name": "Python 3"
    },
    "language_info": {
      "name": "python"
    }
  },
  "cells": [
    {
      "cell_type": "markdown",
      "metadata": {
        "id": "view-in-github",
        "colab_type": "text"
      },
      "source": [
        "<a href=\"https://colab.research.google.com/github/GarethCWright/CS315/blob/main/QuicksortPoCkey%20.ipynb\" target=\"_parent\"><img src=\"https://colab.research.google.com/assets/colab-badge.svg\" alt=\"Open In Colab\"/></a>"
      ]
    },
    {
      "cell_type": "code",
      "execution_count": null,
      "metadata": {
        "id": "t_LwP80OmwFK"
      },
      "outputs": [],
      "source": [
        "# Template for testing Quick-Sort on small lists, outputing each intermediate step"
      ]
    },
    {
      "cell_type": "code",
      "source": [
        "import random\n",
        "import time\n",
        "import math\n",
        "import sys"
      ],
      "metadata": {
        "id": "LMcLd_etm-0Y"
      },
      "execution_count": null,
      "outputs": []
    },
    {
      "cell_type": "code",
      "source": [
        "# Partition provided as a convenience\n",
        "\n",
        "def Partition(A,p,r):\n",
        "    x = A[r]\n",
        "    i = p - 1\n",
        "    for j in range(p,r):\n",
        "        if ( A[j] <= x ):\n",
        "            i = i + 1\n",
        "            #swap A[i] <--> A[j]\n",
        "            temp=A[i]\n",
        "            A[i]=A[j]\n",
        "            A[j]=temp\n",
        "    #swap A[i+1] <--> A[r]\n",
        "    temp=A[i+1]\n",
        "    A[i+1]=A[r]\n",
        "    A[r]=temp\n",
        "\n",
        "    return i + 1"
      ],
      "metadata": {
        "id": "TyWIYm1_nIYR"
      },
      "execution_count": null,
      "outputs": []
    },
    {
      "cell_type": "code",
      "source": [
        "\n",
        "\"\"\"\n",
        "Output: the time time taken for the function to run\n",
        "\n",
        "learned about passing functions as arguments to another function: https://stackoverflow.com/questions/1349332/python-passing-a-function-into-another-function\n",
        "\"\"\"\n",
        "def function_timer(func, *args, **kwargs):\n",
        "      start = time.time() #referenced https://www.w3schools.com/python/ref_module_time.asp\n",
        "      func(*args, **kwargs)\n",
        "      end = time.time()\n",
        "      return float(end)-float(start)"
      ],
      "metadata": {
        "id": "HX2sXf6iRlvn"
      },
      "execution_count": null,
      "outputs": []
    },
    {
      "cell_type": "code",
      "source": [
        "def Quicksort(A,p,r,print_flag):\n",
        "    if p < r:\n",
        "        q  = Partition(A, p, r)\n",
        "        if print_flag:\n",
        "            print(A)\n",
        "        Quicksort(A, p, q-1, print_flag)\n",
        "        Quicksort(A, q+1, r, print_flag)"
      ],
      "metadata": {
        "id": "neX-YNcPnLpk"
      },
      "execution_count": null,
      "outputs": []
    },
    {
      "cell_type": "code",
      "source": [
        "sys.setrecursionlimit(5010)"
      ],
      "metadata": {
        "id": "bT_T-iH22cSo"
      },
      "execution_count": null,
      "outputs": []
    },
    {
      "cell_type": "code",
      "source": [
        "#Quicksort on Random Values\n",
        "\n",
        "#initialize variables\n",
        "times = []\n",
        "curr_total_time = 0\n",
        "N = 10\n",
        "N_LIMIT = 1_000_000\n",
        "trial = 0\n",
        "MAX_TRIALS = 10 #must be 1 or greater\n",
        "A = []\n",
        "\n",
        "#this tests the times on arrays that are 10x the size of the previous, averaging the times for 10 runs for each size of array\n",
        "while (N <= N_LIMIT): #loop runs  log10(N_LIMIT)*MAX_TRIALS  times\n",
        "    A = list(range(N))\n",
        "    random.shuffle(A)\n",
        "    curr_total_time += function_timer(Quicksort, A, 0, N-1, False)\n",
        "\n",
        "    trial+=1\n",
        "    if trial == MAX_TRIALS: #this keeps the loop going on current iteration until it's been run 10x on the current size of array\n",
        "        N *= 10\n",
        "        trial = 1\n",
        "        times.append( float(curr_total_time)/10 )\n",
        "\n",
        "#this part prints out the times and compares them to the expected times\n",
        "n_copy = -1\n",
        "for i in range(len(times)):\n",
        "    n_copy = 10**(i+1)\n",
        "    print(f\"Quicksort with {n_copy} random elements took: {times[i]} seconds\")\n",
        "    if i >= 1:\n",
        "        print(f\"Ratio Test:\\n Actual: { (times[i] / times[i-1]) } vs Expected: { (n_copy*math.log2(n_copy)) / ((n_copy/10)*math.log2(n_copy/10)) }\")\n",
        "#ratio test seems to indicate that it's mostly pretty accurate, with 100k elements being an outlier (ratio of 18.8 compared to 12.5)"
      ],
      "metadata": {
        "colab": {
          "base_uri": "https://localhost:8080/"
        },
        "id": "RVXFjLS0nCeo",
        "outputId": "dd7e8378-86b7-46a1-ba25-896a43d5e6cb"
      },
      "execution_count": null,
      "outputs": [
        {
          "output_type": "stream",
          "name": "stdout",
          "text": [
            "Quicksort with 10 random elements took: 7.653236389160157e-06 seconds\n",
            "Quicksort with 100 random elements took: 9.29117202758789e-05 seconds\n",
            "Ratio Test:\n",
            " Actual: 12.140186915887849 vs Expected: 19.999999999999996\n",
            "Quicksort with 1000 random elements took: 0.00125274658203125 seconds\n",
            "Ratio Test:\n",
            " Actual: 13.483192199127533 vs Expected: 15.000000000000004\n",
            "Quicksort with 10000 random elements took: 0.016248011589050294 seconds\n",
            "Ratio Test:\n",
            " Actual: 12.969910931790501 vs Expected: 13.333333333333332\n",
            "Quicksort with 100000 random elements took: 0.3054541349411011 seconds\n",
            "Ratio Test:\n",
            " Actual: 18.799477909466155 vs Expected: 12.5\n",
            "Quicksort with 1000000 random elements took: 3.665608835220337 seconds\n",
            "Ratio Test:\n",
            " Actual: 12.000521243319083 vs Expected: 12.0\n"
          ]
        }
      ]
    },
    {
      "cell_type": "code",
      "source": [
        "#Tests Quicksort on sorted arrays\n",
        " #(Almost identical to the above section)\n",
        "\n",
        "times = []\n",
        "curr_total_time = 0\n",
        "N = 10\n",
        "N_LIMIT = 5_000\n",
        "trial = 1\n",
        "MAX_TRIALS = 10 #must be 1 or greater\n",
        "A = []\n",
        "\n",
        "#this tests the times on arrays that are 4x the size of the previous, averaging the times for 10 runs for each size of array\n",
        "while (N <= N_LIMIT): #loop runs  log4(N_LIMIT)*MAX_TRIALS  times\n",
        "    A = list(range(N))\n",
        "    curr_total_time += function_timer(Quicksort, A, 0, N-1, False)\n",
        "\n",
        "    if trial == MAX_TRIALS: #this keeps the loop going on current iteration until it's been run 10x on the current size of array\n",
        "        N *= 4\n",
        "        trial = 1\n",
        "        times.append( float(curr_total_time)/10 )\n",
        "    trial+=1\n",
        "\n",
        "#this part prints out the times and compares them to the expected times\n",
        "n_copy = -1\n",
        "for i in range(len(times)):\n",
        "    n_copy = 4**(i+1)\n",
        "    print(f\"Quicksort with {n_copy} ordered elements took: {times[i]} seconds\")\n",
        "    if i >= 1:\n",
        "        print(f\"Ratio Test:\\n Actual: { (times[i] / times[i-1]) } vs Expected: { (i+1)**2 / ((i+1)/4)**2 }\")\n",
        "#13-18 vs expected of 16, so passes ratio test"
      ],
      "metadata": {
        "colab": {
          "base_uri": "https://localhost:8080/"
        },
        "id": "KbhiVVQrvLeo",
        "outputId": "97d241d9-acfb-4166-fa8a-16439529eef7"
      },
      "execution_count": null,
      "outputs": [
        {
          "output_type": "stream",
          "name": "stdout",
          "text": [
            "Quicksort with 4 ordered elements took: 8.344650268554688e-06 seconds\n",
            "Quicksort with 16 ordered elements took: 8.039474487304687e-05 seconds\n",
            "Ratio Test:\n",
            " Actual: 9.634285714285713 vs Expected: 16.0\n",
            "Quicksort with 64 ordered elements took: 0.0010509252548217773 seconds\n",
            "Ratio Test:\n",
            " Actual: 13.072064056939501 vs Expected: 16.0\n",
            "Quicksort with 256 ordered elements took: 0.017724061012268068 seconds\n",
            "Ratio Test:\n",
            " Actual: 16.86519657886976 vs Expected: 16.0\n",
            "Quicksort with 1024 ordered elements took: 0.3200753450393677 seconds\n",
            "Ratio Test:\n",
            " Actual: 18.058804064024663 vs Expected: 16.0\n"
          ]
        }
      ]
    }
  ]
}