{
  "nbformat": 4,
  "nbformat_minor": 0,
  "metadata": {
    "colab": {
      "provenance": [],
      "include_colab_link": true
    },
    "kernelspec": {
      "name": "python3",
      "display_name": "Python 3"
    },
    "language_info": {
      "name": "python"
    }
  },
  "cells": [
    {
      "cell_type": "markdown",
      "metadata": {
        "id": "view-in-github",
        "colab_type": "text"
      },
      "source": [
        "<a href=\"https://colab.research.google.com/github/GarethCWright/CS315/blob/main/QuicksortPoCkey%20.ipynb\" target=\"_parent\"><img src=\"https://colab.research.google.com/assets/colab-badge.svg\" alt=\"Open In Colab\"/></a>"
      ]
    },
    {
      "cell_type": "code",
      "execution_count": 37,
      "metadata": {
        "id": "t_LwP80OmwFK"
      },
      "outputs": [],
      "source": [
        "# Template for testing Quick-Sort on small lists, outputing each intermediate step"
      ]
    },
    {
      "cell_type": "code",
      "source": [
        "import random\n",
        "import time\n",
        "import math\n",
        "import sys"
      ],
      "metadata": {
        "id": "LMcLd_etm-0Y"
      },
      "execution_count": 38,
      "outputs": []
    },
    {
      "cell_type": "code",
      "source": [
        "# Partition provided as a convenience\n",
        "\n",
        "def Partition(A,p,r):\n",
        "    x = A[r]\n",
        "    i = p - 1\n",
        "    for j in range(p,r):\n",
        "        if ( A[j] <= x ):\n",
        "            i = i + 1\n",
        "            #swap A[i] <--> A[j]\n",
        "            temp=A[i]\n",
        "            A[i]=A[j]\n",
        "            A[j]=temp\n",
        "    #swap A[i+1] <--> A[r]\n",
        "    temp=A[i+1]\n",
        "    A[i+1]=A[r]\n",
        "    A[r]=temp\n",
        "\n",
        "    return i + 1"
      ],
      "metadata": {
        "id": "TyWIYm1_nIYR"
      },
      "execution_count": 39,
      "outputs": []
    },
    {
      "cell_type": "code",
      "source": [
        "\n",
        "\"\"\"\n",
        "This function takes the average of each of 10 calls to the function being timed\n",
        "for n=10, 100, 1000, 10_000, 100_000, 1_000_000\n",
        "\n",
        "Output: the time time taken for the function to run\n",
        "\n",
        "learned about passing functions as arguments to another function: https://stackoverflow.com/questions/1349332/python-passing-a-function-into-another-function\n",
        "\"\"\"\n",
        "def function_timer(func, *args, **kwargs):\n",
        "      start = time.time() #referenced https://www.w3schools.com/python/ref_module_time.asp\n",
        "      func(*args, **kwargs)\n",
        "      end = time.time()\n",
        "      return float(end)-float(start)"
      ],
      "metadata": {
        "id": "HX2sXf6iRlvn"
      },
      "execution_count": 40,
      "outputs": []
    },
    {
      "cell_type": "code",
      "source": [
        "def Quicksort(A,p,r,print_flag):\n",
        "    if p < r:\n",
        "        q  = Partition(A, p, r)\n",
        "        if print_flag:\n",
        "            print(A)\n",
        "        Quicksort(A, p, q-1, print_flag)\n",
        "        Quicksort(A, q+1, r, print_flag)"
      ],
      "metadata": {
        "id": "neX-YNcPnLpk"
      },
      "execution_count": 41,
      "outputs": []
    },
    {
      "cell_type": "code",
      "source": [
        "sys.setrecursionlimit(5010)"
      ],
      "metadata": {
        "id": "bT_T-iH22cSo"
      },
      "execution_count": 42,
      "outputs": []
    },
    {
      "cell_type": "code",
      "source": [
        "times = []\n",
        "curr_total_time = 0\n",
        "N = 10\n",
        "N_LIMIT = 1_000_000\n",
        "trial = 0\n",
        "MAX_TRIALS = 10 #must be 1 or greater\n",
        "A = []\n",
        "\n",
        "while (N <= N_LIMIT): #loop runs  log10(N_LIMIT)*MAX_TRIALS  times\n",
        "    A = list(range(N))\n",
        "    random.shuffle(A)\n",
        "    curr_total_time += function_timer(Quicksort, A, 0, N-1, False)\n",
        "\n",
        "    trial+=1\n",
        "    if trial == MAX_TRIALS:\n",
        "        N *= 10\n",
        "        trial = 1\n",
        "        times.append( float(curr_total_time)/10 )\n",
        "\n",
        "n_copy = -1\n",
        "for i in range(len(times)):\n",
        "    n_copy = 10**(i+1)\n",
        "    print(f\"Quicksort with {n_copy} random elements took: {times[i]} seconds\")\n",
        "    print(f\"Ratio: { times[i] / (n_copy*math.log2(n_copy)) }\")\n"
      ],
      "metadata": {
        "colab": {
          "base_uri": "https://localhost:8080/"
        },
        "id": "RVXFjLS0nCeo",
        "outputId": "bbfd84f5-85eb-45cd-fb08-5901920b0714"
      },
      "execution_count": 46,
      "outputs": [
        {
          "output_type": "stream",
          "name": "stdout",
          "text": [
            "Quicksort with 10 random elements took: 4.863739013671875e-06 seconds\n",
            "Ratio: 1.4641313341963805e-07\n",
            "Quicksort with 100 random elements took: 6.287097930908203e-05 seconds\n",
            "Ratio: 9.463025314401609e-08\n",
            "Quicksort with 1000 random elements took: 0.0013697147369384766 seconds\n",
            "Ratio: 1.3744174044049356e-07\n",
            "Quicksort with 10000 random elements took: 0.015618348121643066 seconds\n",
            "Ratio: 1.1753978168341902e-07\n",
            "Quicksort with 100000 random elements took: 0.22383663654327393 seconds\n",
            "Ratio: 1.3476308345612378e-07\n",
            "Quicksort with 1000000 random elements took: 3.5065361499786376 seconds\n",
            "Ratio: 1.759287603372771e-07\n"
          ]
        }
      ]
    },
    {
      "cell_type": "code",
      "source": [
        "times = []\n",
        "curr_total_time = 0\n",
        "N = 10\n",
        "N_LIMIT = 5_000\n",
        "trial = 1\n",
        "MAX_TRIALS = 10 #must be 1 or greater\n",
        "A = []\n",
        "\n",
        "while (N <= N_LIMIT): #loop runs  log10(N_LIMIT)*MAX_TRIALS  times\n",
        "    A = list(range(N))\n",
        "    curr_total_time += function_timer(Quicksort, A, 0, N-1, False)\n",
        "\n",
        "    if trial == MAX_TRIALS:\n",
        "        N *= 4\n",
        "        trial = 1\n",
        "        times.append( float(curr_total_time)/10 )\n",
        "    trial+=1\n",
        "\n",
        "n_copy = -1\n",
        "for i in range(len(times)):\n",
        "    n_copy = 4**(i+1)\n",
        "    print(f\"Quicksort with {n_copy} ordered elements took: {times[i]} seconds\")\n",
        "    print(f\"Ratio: { times[i] / (n_copy*n_copy) }\")"
      ],
      "metadata": {
        "colab": {
          "base_uri": "https://localhost:8080/"
        },
        "id": "KbhiVVQrvLeo",
        "outputId": "5f83476b-33d4-4b36-c733-33a4cfa10072"
      },
      "execution_count": 58,
      "outputs": [
        {
          "output_type": "stream",
          "name": "stdout",
          "text": [
            "Quicksort with 4 ordered elements took: 7.152557373046875e-06 seconds\n",
            "Ratio: 4.470348358154297e-07\n",
            "Quicksort with 16 ordered elements took: 7.042884826660156e-05 seconds\n",
            "Ratio: 2.7511268854141233e-07\n",
            "Quicksort with 64 ordered elements took: 0.0011406421661376953 seconds\n",
            "Ratio: 2.7847709134221076e-07\n",
            "Quicksort with 256 ordered elements took: 0.01695733070373535 seconds\n",
            "Ratio: 2.587483322713524e-07\n",
            "Quicksort with 1024 ordered elements took: 0.43546237945556643 seconds\n",
            "Ratio: 4.1528928704792636e-07\n"
          ]
        }
      ]
    }
  ]
}