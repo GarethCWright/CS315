{
  "nbformat": 4,
  "nbformat_minor": 0,
  "metadata": {
    "colab": {
      "provenance": [],
      "include_colab_link": true
    },
    "kernelspec": {
      "name": "python3",
      "display_name": "Python 3"
    },
    "language_info": {
      "name": "python"
    }
  },
  "cells": [
    {
      "cell_type": "markdown",
      "metadata": {
        "id": "view-in-github",
        "colab_type": "text"
      },
      "source": [
        "<a href=\"https://colab.research.google.com/github/GarethCWright/CS315/blob/main/MergesortPoC.ipynb\" target=\"_parent\"><img src=\"https://colab.research.google.com/assets/colab-badge.svg\" alt=\"Open In Colab\"/></a>"
      ]
    },
    {
      "cell_type": "code",
      "execution_count": 11,
      "metadata": {
        "id": "t_LwP80OmwFK"
      },
      "outputs": [],
      "source": [
        "# Template for testing Insertion-Sort on small lists, outputing each intermediate step"
      ]
    },
    {
      "cell_type": "code",
      "source": [
        "import random\n",
        "import time\n",
        "import math\n",
        "import sys"
      ],
      "metadata": {
        "id": "LMcLd_etm-0Y"
      },
      "execution_count": 12,
      "outputs": []
    },
    {
      "cell_type": "code",
      "source": [
        "# Merge provided as a convenience\n",
        "\n",
        "def Merge(A,p,q,r):\n",
        "    nL = q-p+1\n",
        "    nR = r-q\n",
        "    Left = []\n",
        "    Right = []\n",
        "\n",
        "    for i in range(nL):\n",
        "        Left.append(A[p+i])\n",
        "    for j in range(nR):\n",
        "        Right.append(A[q+j+1])\n",
        "\n",
        "    i=0\n",
        "    j=0\n",
        "    k=p\n",
        "    while i<nL and j<nR:\n",
        "        if (Left[i]<=Right[j]):\n",
        "            A[k]=Left[i]\n",
        "            i+=1\n",
        "        else:\n",
        "            A[k]=Right[j]\n",
        "            j+=1\n",
        "        k+=1\n",
        "\n",
        "    while i< nL:\n",
        "        A[k]=Left[i]\n",
        "        i+=1\n",
        "        k+=1\n",
        "    while j< nR:\n",
        "        A[k]=Right[j]\n",
        "        j+=1\n",
        "        k+=1\n",
        "\n",
        "    return"
      ],
      "metadata": {
        "id": "TyWIYm1_nIYR"
      },
      "execution_count": 13,
      "outputs": []
    },
    {
      "cell_type": "code",
      "source": [
        "def Mergesort(A,p,r,print_flag):\n",
        "    if p >= r:\n",
        "        return\n",
        "    q = (p+r)//2\n",
        "\n",
        "    Mergesort(A, p, q, print_flag)     #sort left\n",
        "    Mergesort(A, q + 1, r, print_flag) #sort right\n",
        "    Merge(A, p, q, r)                  #merge left and right together\n",
        "\n",
        "    if print_flag:\n",
        "      print(A)\n",
        "    return"
      ],
      "metadata": {
        "id": "neX-YNcPnLpk"
      },
      "execution_count": 14,
      "outputs": []
    },
    {
      "cell_type": "code",
      "source": [
        "\n",
        "\"\"\"\n",
        "Output: the time time taken for the function to run\n",
        "\n",
        "learned about passing functions as arguments to another function: https://stackoverflow.com/questions/1349332/python-passing-a-function-into-another-function\n",
        "\"\"\"\n",
        "def function_timer(func, *args, **kwargs):\n",
        "      start = time.time() #referenced https://www.w3schools.com/python/ref_module_time.asp\n",
        "      func(*args, **kwargs)\n",
        "      end = time.time()\n",
        "      return float(end)-float(start)"
      ],
      "metadata": {
        "id": "aIbWxYLvQHVF"
      },
      "execution_count": 15,
      "outputs": []
    },
    {
      "cell_type": "code",
      "source": [
        "sys.setrecursionlimit(5010)"
      ],
      "metadata": {
        "id": "a4nR2mmjQMG6"
      },
      "execution_count": 16,
      "outputs": []
    },
    {
      "cell_type": "code",
      "source": [
        "#Mergesort on Random Values\n",
        "\n",
        "#initialize variables\n",
        "times = []\n",
        "curr_total_time = 0\n",
        "N = 10\n",
        "N_LIMIT = 100_000\n",
        "trial = 0\n",
        "MAX_TRIALS = 10 #must be 1 or greater\n",
        "A = []\n",
        "\n",
        "#this tests the times on arrays that are 10x the size of the previous, averaging the times for 10 runs for each size of array\n",
        "while (N <= N_LIMIT): #loop runs  log10(N_LIMIT)*MAX_TRIALS  times\n",
        "    A = list(range(N))\n",
        "    random.shuffle(A)\n",
        "    curr_total_time += function_timer(Mergesort, A, 0, N-1, False)\n",
        "\n",
        "    trial+=1\n",
        "    if trial == MAX_TRIALS: #this keeps the loop going on current iteration until it's been run 10x on the current size of array\n",
        "        N *= 10\n",
        "        trial = 1\n",
        "        times.append( float(curr_total_time)/10 )\n",
        "\n",
        "#this part prints out the times and compares them to the expected times\n",
        "n_copy = -1\n",
        "for i in range(len(times)):\n",
        "    n_copy = 10**(i+1)\n",
        "    print(f\"Mergesort with {n_copy} random elements took: {times[i]} seconds\")\n",
        "    if i >= 1:\n",
        "        print(f\"Ratio Test:\\n Actual: { (times[i] / times[i-1]) } vs Expected: { (n_copy*math.log2(n_copy)) / ((n_copy/10)*math.log2(n_copy/10)) }\")\n",
        "#1000+ elements seem to be in line with ratio test"
      ],
      "metadata": {
        "id": "D4heEhxEQOuj",
        "outputId": "2270380d-e507-422d-a3e2-144123c9b825",
        "colab": {
          "base_uri": "https://localhost:8080/"
        }
      },
      "execution_count": 21,
      "outputs": [
        {
          "output_type": "stream",
          "name": "stdout",
          "text": [
            "Mergesort with 10 random elements took: 1.1920928955078125e-05 seconds\n",
            "Mergesort with 100 random elements took: 0.00014793872833251953 seconds\n",
            "Ratio Test:\n",
            " Actual: 12.41 vs Expected: 19.999999999999996\n",
            "Mergesort with 1000 random elements took: 0.002506875991821289 seconds\n",
            "Ratio Test:\n",
            " Actual: 16.945366639806608 vs Expected: 15.000000000000004\n",
            "Mergesort with 10000 random elements took: 0.03074014186859131 seconds\n",
            "Ratio Test:\n",
            " Actual: 12.262330473817359 vs Expected: 13.333333333333332\n",
            "Mergesort with 100000 random elements took: 0.40044245719909666 seconds\n",
            "Ratio Test:\n",
            " Actual: 13.026695156805639 vs Expected: 12.5\n"
          ]
        }
      ]
    },
    {
      "cell_type": "code",
      "source": [
        "#Tests Mergesort for sorted arrays\n",
        " #(Almost identical to the above section)\n",
        "\n",
        "times = []\n",
        "curr_total_time = 0\n",
        "N = 10\n",
        "N_LIMIT = 1_000_000\n",
        "trial = 1\n",
        "MAX_TRIALS = 10 #must be 1 or greater\n",
        "A = []\n",
        "\n",
        "#this tests the times on arrays that are 10x the size of the previous, averaging the times for 10 runs for each size of array\n",
        "while (N <= N_LIMIT): #loop runs  log10(N_LIMIT)*MAX_TRIALS  times\n",
        "    A = list(range(N))\n",
        "    curr_total_time += function_timer(Mergesort, A, 0, N-1, False)\n",
        "\n",
        "    if trial == MAX_TRIALS: #this keeps the loop going on current iteration until it's been run 10x on the current size of array\n",
        "        N *= 10\n",
        "        trial = 1\n",
        "        times.append( float(curr_total_time)/10 )\n",
        "    trial+=1\n",
        "\n",
        "#this part prints out the times and compares them to the expected times\n",
        "n_copy = -1\n",
        "for i in range(len(times)):\n",
        "    n_copy = 10**(i+1)\n",
        "    print(f\"Mergesort with {n_copy} ordered elements took: {times[i]} seconds\")\n",
        "    if i >= 1:\n",
        "        print(f\"Ratio Test:\\n Actual: { (times[i] / times[i-1]) } vs Expected: { (n_copy*math.log2(n_copy)) / ((n_copy/10)*math.log2(n_copy/10)) }\")\n",
        "#As expected, results are very similar to how they were on unsorted data"
      ],
      "metadata": {
        "id": "iAHqsEs2QaGg",
        "outputId": "687263d5-915f-4d00-cd90-e2c869ee35da",
        "colab": {
          "base_uri": "https://localhost:8080/"
        }
      },
      "execution_count": 25,
      "outputs": [
        {
          "output_type": "stream",
          "name": "stdout",
          "text": [
            "Mergesort with 10 ordered elements took: 2.048015594482422e-05 seconds\n",
            "Mergesort with 100 ordered elements took: 0.0002007007598876953 seconds\n",
            "Ratio Test:\n",
            " Actual: 9.799767171129218 vs Expected: 19.999999999999996\n",
            "Mergesort with 1000 ordered elements took: 0.002588057518005371 seconds\n",
            "Ratio Test:\n",
            " Actual: 12.895105725825612 vs Expected: 15.000000000000004\n",
            "Mergesort with 10000 ordered elements took: 0.027922606468200682 seconds\n",
            "Ratio Test:\n",
            " Actual: 10.789020828919124 vs Expected: 13.333333333333332\n",
            "Mergesort with 100000 ordered elements took: 0.338618540763855 seconds\n",
            "Ratio Test:\n",
            " Actual: 12.12703911253724 vs Expected: 12.5\n",
            "Mergesort with 1000000 ordered elements took: 4.464676880836487 seconds\n",
            "Ratio Test:\n",
            " Actual: 13.184974664308335 vs Expected: 12.0\n"
          ]
        }
      ]
    },
    {
      "cell_type": "code",
      "source": [
        "# N=8\n",
        "# A = list(range(N))\n",
        "\n",
        "# random.shuffle(A)\n",
        "\n",
        "# print(A)\n",
        "# Mergesort(A,0,N-1,True)\n",
        "# print(A)"
      ],
      "metadata": {
        "id": "RVXFjLS0nCeo"
      },
      "execution_count": 19,
      "outputs": []
    }
  ]
}