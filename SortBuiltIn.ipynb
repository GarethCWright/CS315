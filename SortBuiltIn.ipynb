{
  "nbformat": 4,
  "nbformat_minor": 0,
  "metadata": {
    "colab": {
      "provenance": [],
      "include_colab_link": true
    },
    "kernelspec": {
      "name": "python3",
      "display_name": "Python 3"
    },
    "language_info": {
      "name": "python"
    }
  },
  "cells": [
    {
      "cell_type": "markdown",
      "metadata": {
        "id": "view-in-github",
        "colab_type": "text"
      },
      "source": [
        "<a href=\"https://colab.research.google.com/github/GarethCWright/CS315/blob/main/SortBuiltIn.ipynb\" target=\"_parent\"><img src=\"https://colab.research.google.com/assets/colab-badge.svg\" alt=\"Open In Colab\"/></a>"
      ]
    },
    {
      "cell_type": "code",
      "execution_count": 15,
      "metadata": {
        "id": "tZGwopH4Y7oL"
      },
      "outputs": [],
      "source": [
        "#Timing selection sort for sorted and unsorted arrays by Gareth Wright"
      ]
    },
    {
      "cell_type": "code",
      "source": [
        "import random\n",
        "import time"
      ],
      "metadata": {
        "id": "fSME9MywceAq"
      },
      "execution_count": 16,
      "outputs": []
    },
    {
      "cell_type": "code",
      "source": [
        "\n",
        "\"\"\"\n",
        "Output: the time time taken for the function to run\n",
        "\n",
        "learned about passing functions as arguments to another function: https://stackoverflow.com/questions/1349332/python-passing-a-function-into-another-function\n",
        "\"\"\"\n",
        "def function_timer(A):\n",
        "      start = time.time() #referenced https://www.w3schools.com/python/ref_module_time.asp\n",
        "      A.sort()\n",
        "      end = time.time()\n",
        "      return float(end)-float(start)"
      ],
      "metadata": {
        "id": "nLqZ0gERHfx6"
      },
      "execution_count": 17,
      "outputs": []
    },
    {
      "cell_type": "code",
      "source": [
        "#Built-in sort on random arrays\n",
        "\n",
        "#initialize variables\n",
        "times = []\n",
        "curr_total_time = 0\n",
        "N = 10\n",
        "N_LIMIT = 1_000_000\n",
        "trial = 0\n",
        "MAX_TRIALS = 10 #must be 1 or greater\n",
        "A = []\n",
        "\n",
        "#this tests the times on arrays that are 10x the size of the previous, averaging the times for 10 runs for each size of array\n",
        "while (N <= N_LIMIT): #loop runs  log10(N_LIMIT)*MAX_TRIALS  times\n",
        "    A = list(range(N))\n",
        "    random.shuffle(A)\n",
        "    curr_total_time += function_timer(A)\n",
        "\n",
        "    trial+=1\n",
        "    if trial == MAX_TRIALS: #this keeps the loop going on current iteration until it's been run 10x on the current size of array\n",
        "        N *= 10\n",
        "        trial = 1\n",
        "        times.append( float(curr_total_time)/10 )\n",
        "\n",
        "#this part prints out the times and compares them to the expected times\n",
        "n_copy = -1\n",
        "for i in range(len(times)):\n",
        "    n_copy = 10**(i+1)\n",
        "    print(f\"built-in sort with {n_copy} random elements took: {times[i]} seconds\")\n",
        "    if i >= 1:\n",
        "        print(f\"Ratio Test:\\n Actual: { (times[i] / times[i-1]) } vs Expected: { (i+1)**2 / ((i+1)/4)**2 }\")\n",
        "#So, I already know that the built-in sort is a combo of merge and insertion sort, so I just set the expected as if it was merge sort,\n",
        "#though knowing it will be faster than that\n",
        "#This seems to be around 16/10 ratio (which is what I saw for nlgn), though more optimal for smaller arrays,\n",
        "  #probably because insertion sort is doing more of the work on those and is more efficient on small arrays"
      ],
      "metadata": {
        "id": "f1GS3NjwZqmS",
        "outputId": "37f86f5c-24b4-4e02-aa8a-68f97d70b7d1",
        "colab": {
          "base_uri": "https://localhost:8080/"
        }
      },
      "execution_count": 18,
      "outputs": [
        {
          "output_type": "stream",
          "name": "stdout",
          "text": [
            "built-in sort with 10 random elements took: 8.58306884765625e-07 seconds\n",
            "built-in sort with 100 random elements took: 7.772445678710938e-06 seconds\n",
            "Ratio Test:\n",
            " Actual: 9.055555555555555 vs Expected: 16.0\n",
            "built-in sort with 1000 random elements took: 0.00011548995971679687 seconds\n",
            "Ratio Test:\n",
            " Actual: 14.858895705521471 vs Expected: 16.0\n",
            "built-in sort with 10000 random elements took: 0.0017745256423950194 seconds\n",
            "Ratio Test:\n",
            " Actual: 15.365194054500412 vs Expected: 16.0\n",
            "built-in sort with 100000 random elements took: 0.02623715400695801 seconds\n",
            "Ratio Test:\n",
            " Actual: 14.785446532937431 vs Expected: 16.0\n",
            "built-in sort with 1000000 random elements took: 0.5060190200805664 seconds\n",
            "Ratio Test:\n",
            " Actual: 19.28635323581101 vs Expected: 16.0\n"
          ]
        }
      ]
    },
    {
      "cell_type": "code",
      "source": [
        "#Built-in sort on random arrays\n",
        "\n",
        "#initialize variables\n",
        "times = []\n",
        "curr_total_time = 0\n",
        "N = 10\n",
        "N_LIMIT = 1_000_000\n",
        "trial = 0\n",
        "MAX_TRIALS = 10 #must be 1 or greater\n",
        "A = []\n",
        "\n",
        "#this tests the times on arrays that are 10x the size of the previous, averaging the times for 10 runs for each size of array\n",
        "while (N <= N_LIMIT): #loop runs  log10(N_LIMIT)*MAX_TRIALS  times\n",
        "    A = list(range(N))\n",
        "    curr_total_time += function_timer(A)\n",
        "\n",
        "    trial+=1\n",
        "    if trial == MAX_TRIALS: #this keeps the loop going on current iteration until it's been run 10x on the current size of array\n",
        "        N *= 10\n",
        "        trial = 1\n",
        "        times.append( float(curr_total_time)/10 )\n",
        "\n",
        "#this part prints out the times and compares them to the expected times\n",
        "n_copy = -1\n",
        "for i in range(len(times)):\n",
        "    n_copy = 10**(i+1)\n",
        "    print(f\"built-in sort with {n_copy} random elements took: {times[i]} seconds\")\n",
        "    if i >= 1:\n",
        "        print(f\"Ratio Test:\\n Actual: { (times[i] / times[i-1]) } vs Expected: { (i+1)**2 / ((i+1)/4)**2 }\")\n",
        "#These all take way less than an nlgn algorithm, probably owing in part to its use of insertion sort for smaller arrays\n",
        "  #also seems to be way quicker for ordered arrays, which makes sense, since insertion sort gets much faster for sorted arrays"
      ],
      "metadata": {
        "id": "xE-ah-7ELArx",
        "outputId": "486df29d-72a2-4a8d-a7a4-a8083dc93c0a",
        "colab": {
          "base_uri": "https://localhost:8080/"
        }
      },
      "execution_count": 19,
      "outputs": [
        {
          "output_type": "stream",
          "name": "stdout",
          "text": [
            "built-in sort with 10 random elements took: 3.814697265625e-07 seconds\n",
            "built-in sort with 100 random elements took: 1.239776611328125e-06 seconds\n",
            "Ratio Test:\n",
            " Actual: 3.25 vs Expected: 16.0\n",
            "built-in sort with 1000 random elements took: 7.605552673339843e-06 seconds\n",
            "Ratio Test:\n",
            " Actual: 6.134615384615384 vs Expected: 16.0\n",
            "built-in sort with 10000 random elements took: 5.5861473083496096e-05 seconds\n",
            "Ratio Test:\n",
            " Actual: 7.344827586206897 vs Expected: 16.0\n",
            "built-in sort with 100000 random elements took: 0.0007658243179321289 seconds\n",
            "Ratio Test:\n",
            " Actual: 13.709346991037132 vs Expected: 16.0\n",
            "built-in sort with 1000000 random elements took: 0.008241391181945801 seconds\n",
            "Ratio Test:\n",
            " Actual: 10.761464462501168 vs Expected: 16.0\n"
          ]
        }
      ]
    },
    {
      "cell_type": "code",
      "source": [],
      "metadata": {
        "id": "j8yL4Q31UiXn"
      },
      "execution_count": 19,
      "outputs": []
    }
  ]
}